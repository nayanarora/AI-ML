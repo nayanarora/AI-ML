{
 "cells": [
  {
   "cell_type": "markdown",
   "metadata": {},
   "source": [
    "# Assignment 2 - Knapsack Problem using Genetic Algorithm \n",
    "\n",
    "## Nayan Arora - u3249907"
   ]
  },
  {
   "cell_type": "markdown",
   "metadata": {},
   "source": [
    "#### 1.\tRandomly initialise the list of items"
   ]
  },
  {
   "cell_type": "code",
   "execution_count": 527,
   "metadata": {},
   "outputs": [],
   "source": [
    "#define all input libraries below\n",
    "import numpy as np\n",
    "import pandas as pd\n",
    "import random as rd\n",
    "from random import randint\n",
    "import matplotlib.pyplot as plt\n",
    "\n",
    "#we use np.arrange to initiaize a list 10 items\n",
    "item_no = np.arange(1,11)\n",
    "\n",
    "#now we randomly initialize the list of items with a random weight and corresponding price (value)\n",
    "weight = np.random.randint(1, 15, size = 10)\n",
    "price = np.random.randint(10, 750, size = 10)\n",
    "\n",
    "#initializing the maximum weight of the knapsack (bag) as 35kg\n",
    "knapsack_max_threshold = 35"
   ]
  },
  {
   "cell_type": "markdown",
   "metadata": {},
   "source": [
    "#### 2. Output list as - Item No, Weight, Value."
   ]
  },
  {
   "cell_type": "code",
   "execution_count": 528,
   "metadata": {},
   "outputs": [
    {
     "name": "stdout",
     "output_type": "stream",
     "text": [
      "The list output as Item No, Weight, Value is below:\n",
      "\n",
      "----------------\n",
      "\n",
      "Item Number   Weight   Value\n",
      "   1          7         80\n",
      "   2          6         697\n",
      "   3          6         387\n",
      "   4          2         730\n",
      "   5          3         682\n",
      "   6          13         43\n",
      "   7          14         579\n",
      "   8          3         372\n",
      "   9          12         544\n",
      "   10          2         297\n"
     ]
    }
   ],
   "source": [
    "print('The list output as Item No, Weight, Value is below:')\n",
    "print('')\n",
    "print('----------------')\n",
    "print('')\n",
    "print('Item Number   Weight   Value')\n",
    "for index in range(item_no.shape[0]):\n",
    "    print('   {0}          {1}         {2}'.format(item_no[index], weight[index], price[index]))\n"
   ]
  },
  {
   "cell_type": "markdown",
   "metadata": {},
   "source": [
    "#### 3.\tDeclare the initial population"
   ]
  },
  {
   "cell_type": "code",
   "execution_count": 529,
   "metadata": {},
   "outputs": [
    {
     "name": "stdout",
     "output_type": "stream",
     "text": [
      "The Population size = (8, 10)\n"
     ]
    }
   ],
   "source": [
    "#below aer further initializations for the GA\n",
    "solutions_per_population = 8\n",
    "population_size = (solutions_per_population, item_no.shape[0])\n",
    "print('The Population size = {}'.format(population_size))\n",
    "number_of_generations = 50\n",
    "\n",
    "#Now we define the Initial population with each gene value as (1,0)\n",
    "#This helps determine if an item is present in the knapsack or not.\n",
    "initial_pop = np.random.randint(2, size = population_size)\n",
    "initial_pop = initial_pop.astype(int)"
   ]
  },
  {
   "cell_type": "markdown",
   "metadata": {},
   "source": [
    "#### 4.\tPrint initial population"
   ]
  },
  {
   "cell_type": "code",
   "execution_count": 530,
   "metadata": {},
   "outputs": [
    {
     "name": "stdout",
     "output_type": "stream",
     "text": [
      "Initial population: \n",
      "[[1 0 1 1 0 0 1 1 1 1]\n",
      " [0 0 1 1 0 0 1 1 0 1]\n",
      " [1 0 1 1 0 0 0 0 1 1]\n",
      " [0 0 0 1 0 0 1 1 0 0]\n",
      " [1 1 1 0 0 0 1 1 0 0]\n",
      " [1 1 1 1 1 1 0 0 1 1]\n",
      " [1 0 0 0 1 0 0 0 0 1]\n",
      " [0 0 1 1 1 0 0 1 1 0]]\n"
     ]
    }
   ],
   "source": [
    "print('Initial population: \\n{}'.format(initial_pop))"
   ]
  },
  {
   "cell_type": "markdown",
   "metadata": {},
   "source": [
    "#### 5.\tDefinition of the fitness function"
   ]
  },
  {
   "cell_type": "code",
   "execution_count": 531,
   "metadata": {},
   "outputs": [],
   "source": [
    "#Definition of the fitness function\n",
    "def population_fitness(weight, price, population, max_threshold):\n",
    "    fitness = np.empty(population.shape[0])\n",
    "    for index in range(population.shape[0]):\n",
    "        sum_1 = np.sum(population[index] * price) #sum of price to get total price\n",
    "        sum_2 = np.sum(population[index] * weight) #sum of weight to get total weight\n",
    "        if sum_2 <= max_threshold:\n",
    "            fitness[index] = sum_1\n",
    "        else :\n",
    "            fitness[index] = 0 \n",
    "    return fitness.astype(int)"
   ]
  },
  {
   "cell_type": "markdown",
   "metadata": {},
   "source": [
    "#### 6. Selection function to select the fittest individuals"
   ]
  },
  {
   "cell_type": "code",
   "execution_count": 532,
   "metadata": {},
   "outputs": [],
   "source": [
    "#definition of the selection function\n",
    "def selection(population, fitness, number_of_parents):\n",
    "    fitness = list(fitness)\n",
    "    parents = np.empty((number_of_parents, population.shape[1]))\n",
    "    for index in range(number_of_parents):\n",
    "        max_fitness_index = np.where(fitness == np.max(fitness)) #select the index of the highest fitting value.\n",
    "        parents[index,:] = population[max_fitness_index[0][0], :] #get solution using the index \n",
    "        fitness[max_fitness_index[0][0]] = -99999999\n",
    "    return parents"
   ]
  },
  {
   "cell_type": "markdown",
   "metadata": {},
   "source": [
    "#### 7. One-point cross over function"
   ]
  },
  {
   "cell_type": "code",
   "execution_count": 533,
   "metadata": {},
   "outputs": [],
   "source": [
    "#now we define the one-point crossover function\n",
    "def one_point_crossover(parents, size_of_children):\n",
    "    offsprings = np.empty((size_of_children, parents.shape[1]))\n",
    "    crossover_index = int(parents.shape[1]/2)\n",
    "    #setting a high value for crossover rate ensures a higher number of fittest individuals will be crossovered.\n",
    "    crossover_rate = 0.8  \n",
    "    \n",
    "    i=0\n",
    "    while (parents.shape[0] < size_of_children):\n",
    "        parent1_index = i % parents.shape[0]\n",
    "        parent2_index = (i+1) % parents.shape[0]\n",
    "        x = rd.random()\n",
    "\n",
    "        if x > crossover_rate:\n",
    "            continue\n",
    "        parent1_index = i%parents.shape[0]\n",
    "        parent2_index = (i+1)%parents.shape[0]\n",
    "        \n",
    "        offsprings[i, 0:crossover_index] = parents[parent1_index, 0:crossover_index]\n",
    "        offsprings[i, crossover_index:] = parents[parent2_index, crossover_index:]\n",
    "        i = i + 1\n",
    "    return offsprings    "
   ]
  },
  {
   "cell_type": "markdown",
   "metadata": {},
   "source": [
    "#### 8. Mutation Function "
   ]
  },
  {
   "cell_type": "code",
   "execution_count": 534,
   "metadata": {},
   "outputs": [],
   "source": [
    "#definition of the mutation function\n",
    "def mutation(offsprings):\n",
    "    mutants = np.empty((offsprings.shape))\n",
    "    mutation_rate = 0.4\n",
    "    for i in range(mutants.shape[0]):\n",
    "        random_value = rd.random() \n",
    "        mutants[i,:] = offsprings[i,:]\n",
    "        if random_value > mutation_rate:\n",
    "            continue\n",
    "        \n",
    "        #we randomly choose the chromosome that will undergo mutation\n",
    "        int_random_value = randint(0,offsprings.shape[1] - 1)    \n",
    "        \n",
    "        #here we use the bit-flip technique to change the gene value of 0 to 1 and 1 to 0.\n",
    "        if mutants[i,int_random_value] == 0 :\n",
    "            mutants[i,int_random_value] = 1\n",
    "        else :\n",
    "            mutants[i,int_random_value] = 0\n",
    "    return mutants  "
   ]
  },
  {
   "cell_type": "markdown",
   "metadata": {},
   "source": [
    "#### 9. Function calls in order to maximize item value"
   ]
  },
  {
   "cell_type": "code",
   "execution_count": 535,
   "metadata": {},
   "outputs": [],
   "source": [
    "#define function calls below for maximizing the knapsack\n",
    "def maximize_knapsack(weight, price, population, population_size, number_of_generations, max_threshold):\n",
    "    optimal_outputs, optimal_fitnesses = [], []\n",
    "    number_of_parents = int(population_size[0]/2)\n",
    "    total_children = population_size[0] - number_of_parents \n",
    "    \n",
    "    for i in range(number_of_generations):\n",
    "        fitness = population_fitness(weight, price, population, max_threshold)\n",
    "        optimal_fitnesses.append(fitness)\n",
    "        parents = selection(population, fitness, number_of_parents,)\n",
    "        offsprings = one_point_crossover(parents, total_children)\n",
    "        mutants = mutation(offsprings)\n",
    "\n",
    "        population[0:parents.shape[0], :] = parents\n",
    "        population[parents.shape[0]:, :] = mutants\n",
    "\n",
    "    print('Most recent generation: \\n{}\\n'.format(population)) \n",
    "    \n",
    "    most_recent_fitness = population_fitness(weight, price, population, max_threshold)\n",
    "    print('Fitness values for the most recent generation: \\n{}'.format(most_recent_fitness))\n",
    "    \n",
    "    maximum_fitness = np.where(most_recent_fitness == np.max(most_recent_fitness))\n",
    "    optimal_outputs.append(population[maximum_fitness[0][0],:])\n",
    "    return optimal_outputs, optimal_fitnesses"
   ]
  },
  {
   "cell_type": "markdown",
   "metadata": {},
   "source": [
    "#### 10. Resultant items that maximize the Knapsack"
   ]
  },
  {
   "cell_type": "code",
   "execution_count": 536,
   "metadata": {},
   "outputs": [
    {
     "name": "stdout",
     "output_type": "stream",
     "text": [
      "Most recent generation: \n",
      "[[0 1 1 1 1 0 0 1 1 1]\n",
      " [0 1 1 1 1 0 0 1 1 1]\n",
      " [0 1 1 1 1 0 0 1 1 1]\n",
      " [0 1 1 1 1 0 0 1 1 1]\n",
      " [0 1 1 1 1 1 0 1 1 1]\n",
      " [0 1 1 1 1 0 0 1 1 1]\n",
      " [0 1 1 1 1 0 0 1 1 1]\n",
      " [0 1 0 1 1 0 0 1 1 1]]\n",
      "\n",
      "Fitness values for the most recent generation: \n",
      "[3709 3709 3709 3709    0 3709 3709 3322]\n",
      "\n",
      "The optimized values for the randomly defined initializations are: \n",
      "[array([0, 1, 1, 1, 1, 0, 0, 1, 1, 1])]\n",
      "\n",
      "----------Result---------\n",
      "\n",
      "Item numbers that will maximize the knapsack without breaking it:\n",
      "2\n",
      "3\n",
      "4\n",
      "5\n",
      "8\n",
      "9\n",
      "10\n"
     ]
    }
   ],
   "source": [
    "#now we call the maximize function with the earlier defined initialization with maximum weight 35kg\n",
    "optimal_outputs, optimal_fitnesses = maximize_knapsack(weight, price, initial_pop, population_size, number_of_generations, knapsack_max_threshold)\n",
    "print('\\nThe optimized values for the randomly defined initializations are: \\n{}'.format(optimal_outputs))\n",
    "\n",
    "#get the item number of optimal values\n",
    "maximizing_item_numbers = item_no * optimal_outputs\n",
    "\n",
    "print('\\n----------Result---------')\n",
    "print('\\nItem numbers that will maximize the knapsack without breaking it:')\n",
    "for i in range(maximizing_item_numbers.shape[1]):\n",
    "  if maximizing_item_numbers[0][i] != 0:\n",
    "     print('{}'.format(maximizing_item_numbers[0][i]))"
   ]
  },
  {
   "cell_type": "markdown",
   "metadata": {},
   "source": [
    "#### 11. Changes in Fitness over generations"
   ]
  },
  {
   "cell_type": "code",
   "execution_count": 537,
   "metadata": {},
   "outputs": [
    {
     "data": {
      "image/png": "[encoded data removed]",
      "text/plain": [
       "<Figure size 640x480 with 1 Axes>"
      ]
     },
     "metadata": {},
     "output_type": "display_data"
    },
    {
     "name": "stdout",
     "output_type": "stream",
     "text": [
      "(50, 8)\n"
     ]
    }
   ],
   "source": [
    "mean_optimal_fitnesses = [np.mean(fitness) for fitness in optimal_fitnesses]\n",
    "max_fitness = [np.max(fitness) for fitness in optimal_fitnesses]\n",
    "std_fitness = [np.std(fitness) for fitness in optimal_fitnesses]\n",
    "\n",
    "#plot the results to visualize the mean, max and min fitnesses over generations\n",
    "plt.plot(list(range(number_of_generations)), mean_optimal_fitnesses, label = 'Mean Fitness')\n",
    "plt.plot(list(range(number_of_generations)), max_fitness, label = 'Max Fitness')\n",
    "plt.plot(list(range(number_of_generations)), std_fitness, label = 'Stdev Fitness')\n",
    "plt.legend()\n",
    "plt.title('Fitness spread over generations')\n",
    "plt.xlabel('Generations')\n",
    "plt.ylabel('Fitness')\n",
    "plt.show()\n",
    "print(np.asarray(optimal_fitnesses).shape)"
   ]
  },
  {
   "cell_type": "markdown",
   "metadata": {},
   "source": [
    "#### References\n",
    "[1] S. Tiwari, “Genetic Algorithm: Part 3 — Knapsack Problem,” Medium, Apr. 28, 2019. https://medium.com/koderunners/genetic-algorithm-part-3-knapsack-problem-b59035ddd1d6\n",
    "‌"
   ]
  }
 ],
 "metadata": {
  "kernelspec": {
   "display_name": "Python 3",
   "language": "python",
   "name": "python3"
  },
  "language_info": {
   "codemirror_mode": {
    "name": "ipython",
    "version": 3
   },
   "file_extension": ".py",
   "mimetype": "text/x-python",
   "name": "python",
   "nbconvert_exporter": "python",
   "pygments_lexer": "ipython3",
   "version": "3.10.7"
  }
 },
 "nbformat": 4,
 "nbformat_minor": 2
}
